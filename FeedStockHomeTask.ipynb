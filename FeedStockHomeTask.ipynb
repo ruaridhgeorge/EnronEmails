{
 "cells": [
  {
   "cell_type": "markdown",
   "metadata": {},
   "source": [
    "# FeedStock Home Task - Enron Email Dataset\n",
    "\n",
    "#### by Ruaridh George"
   ]
  },
  {
   "cell_type": "markdown",
   "metadata": {},
   "source": [
    "## Part 1: Summary\n",
    "\n",
    "I plan to convert the email data set into a pandas dataframe with multiple columns representing important information about each email. I will seek to find out measures such as the most common sender of emails, recipients of emails and employee-employee interactions.\n",
    "\n",
    "I will then conduct some data cleaning on the content of each email, before implementing K-means clustering on the data, an unsupervised learning algorithm. The main aspects of the task are:\n",
    "\n",
    "* Understand the data set\n",
    "* Create dataframe with useful columns from the raw data\n",
    "* Outline and visualise some insightful facts about the data\n",
    "* Pre-process the content of each email (stopwords, stemming etc.)\n",
    "* Train K-means clustering model\n",
    "* Evaluate the model's success\n",
    "\n",
    "Since this data set was released to investigate Enron Corporation's collapse and the scandal that surrounded it, it could interesting to tailor our analysis towards possible warning signs of this collapse."
   ]
  },
  {
   "cell_type": "markdown",
   "metadata": {},
   "source": [
    "## Part 2: Exploratory Data Analysis\n",
    "\n",
    "\n",
    "First we need to read the data set into a pandas data frame and import some libraries we will need later."
   ]
  },
  {
   "cell_type": "code",
   "execution_count": 460,
   "metadata": {},
   "outputs": [],
   "source": [
    "import zipfile\n",
    "import pandas as pd\n",
    "import matplotlib.pyplot as plt\n",
    "import numpy as np\n",
    "%matplotlib inline"
   ]
  },
  {
   "cell_type": "code",
   "execution_count": 461,
   "metadata": {},
   "outputs": [],
   "source": [
    "zf = zipfile.ZipFile('emails.csv.zip') \n",
    "df_raw = pd.read_csv(zf.open('emails.csv'))"
   ]
  },
  {
   "cell_type": "markdown",
   "metadata": {},
   "source": [
    "### Getting to know the data set\n",
    "\n",
    "Let us look at a sample of the raw data. We want to know what columns it contains and what useful data we can extract from those column entries."
   ]
  },
  {
   "cell_type": "code",
   "execution_count": 462,
   "metadata": {
    "scrolled": true
   },
   "outputs": [
    {
     "data": {
      "text/html": [
       "<div>\n",
       "<style scoped>\n",
       "    .dataframe tbody tr th:only-of-type {\n",
       "        vertical-align: middle;\n",
       "    }\n",
       "\n",
       "    .dataframe tbody tr th {\n",
       "        vertical-align: top;\n",
       "    }\n",
       "\n",
       "    .dataframe thead th {\n",
       "        text-align: right;\n",
       "    }\n",
       "</style>\n",
       "<table border=\"1\" class=\"dataframe\">\n",
       "  <thead>\n",
       "    <tr style=\"text-align: right;\">\n",
       "      <th></th>\n",
       "      <th>file</th>\n",
       "      <th>message</th>\n",
       "    </tr>\n",
       "  </thead>\n",
       "  <tbody>\n",
       "    <tr>\n",
       "      <th>442190</th>\n",
       "      <td>shively-h/sent/227.</td>\n",
       "      <td>Message-ID: &lt;25225952.1075857469469.JavaMail.e...</td>\n",
       "    </tr>\n",
       "    <tr>\n",
       "      <th>326924</th>\n",
       "      <td>mcconnell-m/_sent_mail/788.</td>\n",
       "      <td>Message-ID: &lt;28849979.1075843996921.JavaMail.e...</td>\n",
       "    </tr>\n",
       "    <tr>\n",
       "      <th>517217</th>\n",
       "      <td>zufferli-j/sent_items/241.</td>\n",
       "      <td>Message-ID: &lt;29597962.1075842033528.JavaMail.e...</td>\n",
       "    </tr>\n",
       "    <tr>\n",
       "      <th>353981</th>\n",
       "      <td>nemec-g/sent/258.</td>\n",
       "      <td>Message-ID: &lt;9355479.1075842671079.JavaMail.ev...</td>\n",
       "    </tr>\n",
       "    <tr>\n",
       "      <th>281317</th>\n",
       "      <td>lewis-a/discussion_threads/135.</td>\n",
       "      <td>Message-ID: &lt;17342118.1075857107587.JavaMail.e...</td>\n",
       "    </tr>\n",
       "    <tr>\n",
       "      <th>468889</th>\n",
       "      <td>symes-k/discussion_threads/2458.</td>\n",
       "      <td>Message-ID: &lt;25072614.1075841826517.JavaMail.e...</td>\n",
       "    </tr>\n",
       "    <tr>\n",
       "      <th>433105</th>\n",
       "      <td>shankman-j/old_email/47.</td>\n",
       "      <td>Message-ID: &lt;16585441.1075852643628.JavaMail.e...</td>\n",
       "    </tr>\n",
       "    <tr>\n",
       "      <th>134320</th>\n",
       "      <td>germany-c/sent/2062.</td>\n",
       "      <td>Message-ID: &lt;11155696.1075853903821.JavaMail.e...</td>\n",
       "    </tr>\n",
       "    <tr>\n",
       "      <th>335050</th>\n",
       "      <td>mclaughlin-e/private_folders/corp_info_announc...</td>\n",
       "      <td>Message-ID: &lt;17547595.1075855160779.JavaMail.e...</td>\n",
       "    </tr>\n",
       "    <tr>\n",
       "      <th>114552</th>\n",
       "      <td>forney-j/sent_items/377.</td>\n",
       "      <td>Message-ID: &lt;6818544.1075859220092.JavaMail.ev...</td>\n",
       "    </tr>\n",
       "  </tbody>\n",
       "</table>\n",
       "</div>"
      ],
      "text/plain": [
       "                                                     file  \\\n",
       "442190                                shively-h/sent/227.   \n",
       "326924                        mcconnell-m/_sent_mail/788.   \n",
       "517217                         zufferli-j/sent_items/241.   \n",
       "353981                                  nemec-g/sent/258.   \n",
       "281317                    lewis-a/discussion_threads/135.   \n",
       "468889                   symes-k/discussion_threads/2458.   \n",
       "433105                           shankman-j/old_email/47.   \n",
       "134320                               germany-c/sent/2062.   \n",
       "335050  mclaughlin-e/private_folders/corp_info_announc...   \n",
       "114552                           forney-j/sent_items/377.   \n",
       "\n",
       "                                                  message  \n",
       "442190  Message-ID: <25225952.1075857469469.JavaMail.e...  \n",
       "326924  Message-ID: <28849979.1075843996921.JavaMail.e...  \n",
       "517217  Message-ID: <29597962.1075842033528.JavaMail.e...  \n",
       "353981  Message-ID: <9355479.1075842671079.JavaMail.ev...  \n",
       "281317  Message-ID: <17342118.1075857107587.JavaMail.e...  \n",
       "468889  Message-ID: <25072614.1075841826517.JavaMail.e...  \n",
       "433105  Message-ID: <16585441.1075852643628.JavaMail.e...  \n",
       "134320  Message-ID: <11155696.1075853903821.JavaMail.e...  \n",
       "335050  Message-ID: <17547595.1075855160779.JavaMail.e...  \n",
       "114552  Message-ID: <6818544.1075859220092.JavaMail.ev...  "
      ]
     },
     "execution_count": 462,
     "metadata": {},
     "output_type": "execute_result"
    }
   ],
   "source": [
    "df_raw.sample(10)"
   ]
  },
  {
   "cell_type": "markdown",
   "metadata": {},
   "source": [
    "There are two columns in the raw data set, `file` and `message`.\n",
    "\n",
    "* `file` format: `{surname}-{forename initial}/{email folder}/{email number}`\n",
    "* `message` format: 14 non-content/metadata lines, proceeded by the content of the email.\n",
    "\n",
    "By glancing at the entire email directory, each employee's email folders are user customisable/unique. Some folders such as `sent items`, `all items` and `discussion threads` are common, but there are folders such as `funny`, `mba_accounting` and `boomerang` which are likely to be unique to a few employees. Some emails have multiple recipients. We can deal with that later."
   ]
  },
  {
   "cell_type": "code",
   "execution_count": 463,
   "metadata": {},
   "outputs": [],
   "source": [
    "df = df_raw"
   ]
  },
  {
   "cell_type": "code",
   "execution_count": 464,
   "metadata": {},
   "outputs": [
    {
     "name": "stdout",
     "output_type": "stream",
     "text": [
      "517401 \n",
      "\n",
      "\n",
      " allen-p/_sent_mail/1. \n",
      "\n",
      "\n",
      " Message-ID: <18782981.1075855378110.JavaMail.evans@thyme>\n",
      "Date: Mon, 14 May 2001 16:39:00 -0700 (PDT)\n",
      "From: phillip.allen@enron.com\n",
      "To: tim.belden@enron.com\n",
      "Subject: \n",
      "Mime-Version: 1.0\n",
      "Content-Type: text/plain; charset=us-ascii\n",
      "Content-Transfer-Encoding: 7bit\n",
      "X-From: Phillip K Allen\n",
      "X-To: Tim Belden <Tim Belden/Enron@EnronXGate>\n",
      "X-cc: \n",
      "X-bcc: \n",
      "X-Folder: \\Phillip_Allen_Jan2002_1\\Allen, Phillip K.\\'Sent Mail\n",
      "X-Origin: Allen-P\n",
      "X-FileName: pallen (Non-Privileged).pst\n",
      "\n",
      "Here is our forecast\n",
      "\n",
      " \n"
     ]
    }
   ],
   "source": [
    "print(len(df), '\\n\\n\\n',\n",
    "      df.file[0], '\\n\\n\\n',\n",
    "      df.message[0])"
   ]
  },
  {
   "cell_type": "markdown",
   "metadata": {},
   "source": [
    "### Pre-processing\n",
    "\n",
    "Now we understand the data set we can start to extract more meaningful information from it. The information that will be extracted is:\n",
    "* Date sent\n",
    "* Time sent\n",
    "* Sender\n",
    "* Recipient(s)\n",
    "* Subject\n",
    "* Content of message\n",
    "* Folder that the email is contained in \n",
    "\n",
    "We may want to find out:\n",
    "* Email network patterns\n",
    "* Motivation for emails\n",
    "* Tone of emails (sentiment analysis)\n",
    "* Whether the email mentions a specific group of phrases or named entities (information retrieval)\n",
    "\n",
    "The format of the raw email data is compatible with Python's `email` package, allowing us to parse each line of each `message`. An example is shown below."
   ]
  },
  {
   "cell_type": "code",
   "execution_count": 465,
   "metadata": {},
   "outputs": [
    {
     "data": {
      "text/plain": [
       "[('Message-ID', '<32035482.1075855689114.JavaMail.evans@thyme>'),\n",
       " ('Date', 'Wed, 23 Aug 2000 08:23:00 -0700 (PDT)'),\n",
       " ('From', 'phillip.allen@enron.com'),\n",
       " ('To', 'ina.rangel@enron.com'),\n",
       " ('Subject', 'Re: ENA Fileplan Project - Needs your approval'),\n",
       " ('Mime-Version', '1.0'),\n",
       " ('Content-Type', 'text/plain; charset=us-ascii'),\n",
       " ('Content-Transfer-Encoding', '7bit'),\n",
       " ('X-From', 'Phillip K Allen'),\n",
       " ('X-To', 'Ina Rangel'),\n",
       " ('X-cc', ''),\n",
       " ('X-bcc', ''),\n",
       " ('X-Folder', \"\\\\Phillip_Allen_Dec2000\\\\Notes Folders\\\\'sent mail\"),\n",
       " ('X-Origin', 'Allen-P'),\n",
       " ('X-FileName', 'pallen.nsf')]"
      ]
     },
     "execution_count": 465,
     "metadata": {},
     "output_type": "execute_result"
    }
   ],
   "source": [
    "import email\n",
    "msg = df[\"message\"][90]\n",
    "e = email.message_from_string(msg)\n",
    "e.items()"
   ]
  },
  {
   "cell_type": "markdown",
   "metadata": {},
   "source": [
    "We can write some functions to convert this information into columns in our data frame. Some of the metadata such as Message ID, Mime-Version, Content-Type and Content-Transfer-Encoding won't be useful for analysis.\n",
    "\n",
    "`standard_format` is a function taken from Kaggle which allows us to clean the data set of emails not containing the most crucial information. An example of an email that would be removed by `standard_format`, is one with no recipient."
   ]
  },
  {
   "cell_type": "code",
   "execution_count": 466,
   "metadata": {},
   "outputs": [],
   "source": [
    "def get_info(info, msgs):\n",
    "    '''Function to retrieve specified info such as the email subject from each email'''\n",
    "    column = []\n",
    "    for msg in msgs:\n",
    "        e = email.message_from_string(msg)\n",
    "        column.append(e.get(info))\n",
    "    return column\n",
    "\n",
    "def get_content(msgs):\n",
    "    '''Function to retrieve the content of each email'''\n",
    "    column = []\n",
    "    for msg in msgs:\n",
    "        e = email.message_from_string(msg)\n",
    "        column.append(e.get_payload().lower())\n",
    "    return column\n",
    "\n",
    "def standard_format(df, Series, string, slicer):\n",
    "    '''Function to clean data set of emails without given information in its desired row.\n",
    "    Taken from https://www.kaggle.com/jamestollefson/enron-network-analysis'''\n",
    "    rows = []\n",
    "    for row, message in enumerate(Series):\n",
    "        message_words = message.split('\\n')\n",
    "        if string not in message_words[slicer]:\n",
    "            rows.append(row)\n",
    "    df = df.drop(df.index[rows])\n",
    "    return df\n",
    "\n",
    "def get_folder(paths):\n",
    "    column = []\n",
    "    for path in paths:\n",
    "        if(path is None or path == \"\"):\n",
    "            column.append(np.nan)\n",
    "        else:\n",
    "            column.append(path.split(\"\\\\\")[-1].lower())\n",
    "    return column\n",
    "    "
   ]
  },
  {
   "cell_type": "code",
   "execution_count": 467,
   "metadata": {},
   "outputs": [],
   "source": [
    "old_length = len(df)\n",
    "\n",
    "headers = ['Message-ID: ', 'Date: ', 'From: ', 'To: ', 'Subject: ']\n",
    "for i, v in enumerate(headers):\n",
    "    df = standard_format(df, df.message, v, i)\n",
    "df = df.reset_index()"
   ]
  },
  {
   "cell_type": "code",
   "execution_count": 468,
   "metadata": {},
   "outputs": [
    {
     "name": "stdout",
     "output_type": "stream",
     "text": [
      "0.21537066994458842\n"
     ]
    }
   ],
   "source": [
    "print((old_length - len(df))/old_length)"
   ]
  },
  {
   "cell_type": "markdown",
   "metadata": {},
   "source": [
    "Here, the standard format function has removed any email with no message ids, dates, senders, recipients or subjects. This will prevent `None` type errors when manipulating the data. This amounted to 21.5% of the entire data set!\n",
    "\n",
    "Next, we can create our pandas columns."
   ]
  },
  {
   "cell_type": "code",
   "execution_count": 469,
   "metadata": {
    "scrolled": true
   },
   "outputs": [
    {
     "data": {
      "text/html": [
       "<div>\n",
       "<style scoped>\n",
       "    .dataframe tbody tr th:only-of-type {\n",
       "        vertical-align: middle;\n",
       "    }\n",
       "\n",
       "    .dataframe tbody tr th {\n",
       "        vertical-align: top;\n",
       "    }\n",
       "\n",
       "    .dataframe thead th {\n",
       "        text-align: right;\n",
       "    }\n",
       "</style>\n",
       "<table border=\"1\" class=\"dataframe\">\n",
       "  <thead>\n",
       "    <tr style=\"text-align: right;\">\n",
       "      <th></th>\n",
       "      <th>index</th>\n",
       "      <th>message</th>\n",
       "      <th>date</th>\n",
       "      <th>sender</th>\n",
       "      <th>recipient</th>\n",
       "      <th>subject</th>\n",
       "      <th>content</th>\n",
       "      <th>XFrom</th>\n",
       "      <th>XTo</th>\n",
       "      <th>folder</th>\n",
       "      <th>user</th>\n",
       "    </tr>\n",
       "  </thead>\n",
       "  <tbody>\n",
       "    <tr>\n",
       "      <th>0</th>\n",
       "      <td>0</td>\n",
       "      <td>Message-ID: &lt;18782981.1075855378110.JavaMail.e...</td>\n",
       "      <td>2001-05-14</td>\n",
       "      <td>phillip.allen@enron.com</td>\n",
       "      <td>tim.belden@enron.com</td>\n",
       "      <td></td>\n",
       "      <td>here is our forecast\\n\\n</td>\n",
       "      <td>Phillip K Allen</td>\n",
       "      <td>Tim Belden &lt;Tim Belden/Enron@EnronXGate&gt;</td>\n",
       "      <td>_sent_mail</td>\n",
       "      <td>allen-p</td>\n",
       "    </tr>\n",
       "    <tr>\n",
       "      <th>1</th>\n",
       "      <td>1</td>\n",
       "      <td>Message-ID: &lt;15464986.1075855378456.JavaMail.e...</td>\n",
       "      <td>2001-05-04</td>\n",
       "      <td>phillip.allen@enron.com</td>\n",
       "      <td>john.lavorato@enron.com</td>\n",
       "      <td>Re:</td>\n",
       "      <td>traveling to have a business meeting takes the...</td>\n",
       "      <td>Phillip K Allen</td>\n",
       "      <td>John J Lavorato &lt;John J Lavorato/ENRON@enronXg...</td>\n",
       "      <td>_sent_mail</td>\n",
       "      <td>allen-p</td>\n",
       "    </tr>\n",
       "    <tr>\n",
       "      <th>2</th>\n",
       "      <td>2</td>\n",
       "      <td>Message-ID: &lt;24216240.1075855687451.JavaMail.e...</td>\n",
       "      <td>2000-10-18</td>\n",
       "      <td>phillip.allen@enron.com</td>\n",
       "      <td>leah.arsdall@enron.com</td>\n",
       "      <td>Re: test</td>\n",
       "      <td>test successful.  way to go!!!</td>\n",
       "      <td>Phillip K Allen</td>\n",
       "      <td>Leah Van Arsdall</td>\n",
       "      <td>_sent_mail</td>\n",
       "      <td>allen-p</td>\n",
       "    </tr>\n",
       "    <tr>\n",
       "      <th>3</th>\n",
       "      <td>3</td>\n",
       "      <td>Message-ID: &lt;13505866.1075863688222.JavaMail.e...</td>\n",
       "      <td>2000-10-23</td>\n",
       "      <td>phillip.allen@enron.com</td>\n",
       "      <td>randall.gay@enron.com</td>\n",
       "      <td></td>\n",
       "      <td>randy,\\n\\n can you send me a schedule of the s...</td>\n",
       "      <td>Phillip K Allen</td>\n",
       "      <td>Randall L Gay</td>\n",
       "      <td>_sent_mail</td>\n",
       "      <td>allen-p</td>\n",
       "    </tr>\n",
       "    <tr>\n",
       "      <th>4</th>\n",
       "      <td>4</td>\n",
       "      <td>Message-ID: &lt;30922949.1075863688243.JavaMail.e...</td>\n",
       "      <td>2000-08-31</td>\n",
       "      <td>phillip.allen@enron.com</td>\n",
       "      <td>greg.piper@enron.com</td>\n",
       "      <td>Re: Hello</td>\n",
       "      <td>let's shoot for tuesday at 11:45.</td>\n",
       "      <td>Phillip K Allen</td>\n",
       "      <td>Greg Piper</td>\n",
       "      <td>_sent_mail</td>\n",
       "      <td>allen-p</td>\n",
       "    </tr>\n",
       "    <tr>\n",
       "      <th>...</th>\n",
       "      <td>...</td>\n",
       "      <td>...</td>\n",
       "      <td>...</td>\n",
       "      <td>...</td>\n",
       "      <td>...</td>\n",
       "      <td>...</td>\n",
       "      <td>...</td>\n",
       "      <td>...</td>\n",
       "      <td>...</td>\n",
       "      <td>...</td>\n",
       "      <td>...</td>\n",
       "    </tr>\n",
       "    <tr>\n",
       "      <th>405963</th>\n",
       "      <td>517396</td>\n",
       "      <td>Message-ID: &lt;26807948.1075842029936.JavaMail.e...</td>\n",
       "      <td>2001-11-28</td>\n",
       "      <td>john.zufferli@enron.com</td>\n",
       "      <td>kori.loibl@enron.com</td>\n",
       "      <td>Trade with John Lavorato</td>\n",
       "      <td>this is a trade with oil-spec-hedge-ng (john l...</td>\n",
       "      <td>Zufferli, John &lt;/O=ENRON/OU=NA/CN=RECIPIENTS/C...</td>\n",
       "      <td>Loibl, Kori &lt;/O=ENRON/OU=NA/CN=RECIPIENTS/CN=K...</td>\n",
       "      <td>sent_items</td>\n",
       "      <td>zufferli-j</td>\n",
       "    </tr>\n",
       "    <tr>\n",
       "      <th>405964</th>\n",
       "      <td>517397</td>\n",
       "      <td>Message-ID: &lt;25835861.1075842029959.JavaMail.e...</td>\n",
       "      <td>2001-11-28</td>\n",
       "      <td>john.zufferli@enron.com</td>\n",
       "      <td>john.lavorato@enron.com</td>\n",
       "      <td>Gas Hedges</td>\n",
       "      <td>some of my position is with the alberta term b...</td>\n",
       "      <td>Zufferli, John &lt;/O=ENRON/OU=NA/CN=RECIPIENTS/C...</td>\n",
       "      <td>Lavorato, John &lt;/O=ENRON/OU=NA/CN=RECIPIENTS/C...</td>\n",
       "      <td>sent_items</td>\n",
       "      <td>zufferli-j</td>\n",
       "    </tr>\n",
       "    <tr>\n",
       "      <th>405965</th>\n",
       "      <td>517398</td>\n",
       "      <td>Message-ID: &lt;28979867.1075842029988.JavaMail.e...</td>\n",
       "      <td>2001-11-28</td>\n",
       "      <td>john.zufferli@enron.com</td>\n",
       "      <td>dawn.doucet@enron.com</td>\n",
       "      <td>RE: CONFIDENTIAL</td>\n",
       "      <td>2\\n\\n -----original message-----\\nfrom: \\tdouc...</td>\n",
       "      <td>Zufferli, John &lt;/O=ENRON/OU=NA/CN=RECIPIENTS/C...</td>\n",
       "      <td>Doucet, Dawn &lt;/O=ENRON/OU=NA/CN=RECIPIENTS/CN=...</td>\n",
       "      <td>sent_items</td>\n",
       "      <td>zufferli-j</td>\n",
       "    </tr>\n",
       "    <tr>\n",
       "      <th>405966</th>\n",
       "      <td>517399</td>\n",
       "      <td>Message-ID: &lt;22052556.1075842030013.JavaMail.e...</td>\n",
       "      <td>2001-11-27</td>\n",
       "      <td>john.zufferli@enron.com</td>\n",
       "      <td>jeanie.slone@enron.com</td>\n",
       "      <td>Calgary Analyst/Associate</td>\n",
       "      <td>analyst\\t\\t\\t\\t\\trank\\n\\nstephane brodeur\\t\\t\\...</td>\n",
       "      <td>Zufferli, John &lt;/O=ENRON/OU=NA/CN=RECIPIENTS/C...</td>\n",
       "      <td>Slone, Jeanie &lt;/O=ENRON/OU=NA/CN=RECIPIENTS/CN...</td>\n",
       "      <td>sent_items</td>\n",
       "      <td>zufferli-j</td>\n",
       "    </tr>\n",
       "    <tr>\n",
       "      <th>405967</th>\n",
       "      <td>517400</td>\n",
       "      <td>Message-ID: &lt;28618979.1075842030037.JavaMail.e...</td>\n",
       "      <td>2001-11-26</td>\n",
       "      <td>john.zufferli@enron.com</td>\n",
       "      <td>livia_zufferli@monitor.com</td>\n",
       "      <td>RE: ali's essays</td>\n",
       "      <td>i think the ymca has a class that is for peopl...</td>\n",
       "      <td>Zufferli, John &lt;/O=ENRON/OU=NA/CN=RECIPIENTS/C...</td>\n",
       "      <td>'Livia_Zufferli@Monitor.com@ENRON'</td>\n",
       "      <td>sent_items</td>\n",
       "      <td>zufferli-j</td>\n",
       "    </tr>\n",
       "  </tbody>\n",
       "</table>\n",
       "<p>405968 rows × 11 columns</p>\n",
       "</div>"
      ],
      "text/plain": [
       "         index                                            message        date  \\\n",
       "0            0  Message-ID: <18782981.1075855378110.JavaMail.e...  2001-05-14   \n",
       "1            1  Message-ID: <15464986.1075855378456.JavaMail.e...  2001-05-04   \n",
       "2            2  Message-ID: <24216240.1075855687451.JavaMail.e...  2000-10-18   \n",
       "3            3  Message-ID: <13505866.1075863688222.JavaMail.e...  2000-10-23   \n",
       "4            4  Message-ID: <30922949.1075863688243.JavaMail.e...  2000-08-31   \n",
       "...        ...                                                ...         ...   \n",
       "405963  517396  Message-ID: <26807948.1075842029936.JavaMail.e...  2001-11-28   \n",
       "405964  517397  Message-ID: <25835861.1075842029959.JavaMail.e...  2001-11-28   \n",
       "405965  517398  Message-ID: <28979867.1075842029988.JavaMail.e...  2001-11-28   \n",
       "405966  517399  Message-ID: <22052556.1075842030013.JavaMail.e...  2001-11-27   \n",
       "405967  517400  Message-ID: <28618979.1075842030037.JavaMail.e...  2001-11-26   \n",
       "\n",
       "                         sender                   recipient  \\\n",
       "0       phillip.allen@enron.com        tim.belden@enron.com   \n",
       "1       phillip.allen@enron.com     john.lavorato@enron.com   \n",
       "2       phillip.allen@enron.com      leah.arsdall@enron.com   \n",
       "3       phillip.allen@enron.com       randall.gay@enron.com   \n",
       "4       phillip.allen@enron.com        greg.piper@enron.com   \n",
       "...                         ...                         ...   \n",
       "405963  john.zufferli@enron.com        kori.loibl@enron.com   \n",
       "405964  john.zufferli@enron.com     john.lavorato@enron.com   \n",
       "405965  john.zufferli@enron.com       dawn.doucet@enron.com   \n",
       "405966  john.zufferli@enron.com      jeanie.slone@enron.com   \n",
       "405967  john.zufferli@enron.com  livia_zufferli@monitor.com   \n",
       "\n",
       "                          subject  \\\n",
       "0                                   \n",
       "1                             Re:   \n",
       "2                        Re: test   \n",
       "3                                   \n",
       "4                       Re: Hello   \n",
       "...                           ...   \n",
       "405963   Trade with John Lavorato   \n",
       "405964                 Gas Hedges   \n",
       "405965           RE: CONFIDENTIAL   \n",
       "405966  Calgary Analyst/Associate   \n",
       "405967           RE: ali's essays   \n",
       "\n",
       "                                                  content  \\\n",
       "0                               here is our forecast\\n\\n    \n",
       "1       traveling to have a business meeting takes the...   \n",
       "2                          test successful.  way to go!!!   \n",
       "3       randy,\\n\\n can you send me a schedule of the s...   \n",
       "4                     let's shoot for tuesday at 11:45.     \n",
       "...                                                   ...   \n",
       "405963  this is a trade with oil-spec-hedge-ng (john l...   \n",
       "405964  some of my position is with the alberta term b...   \n",
       "405965  2\\n\\n -----original message-----\\nfrom: \\tdouc...   \n",
       "405966  analyst\\t\\t\\t\\t\\trank\\n\\nstephane brodeur\\t\\t\\...   \n",
       "405967  i think the ymca has a class that is for peopl...   \n",
       "\n",
       "                                                    XFrom  \\\n",
       "0                                         Phillip K Allen   \n",
       "1                                         Phillip K Allen   \n",
       "2                                         Phillip K Allen   \n",
       "3                                         Phillip K Allen   \n",
       "4                                         Phillip K Allen   \n",
       "...                                                   ...   \n",
       "405963  Zufferli, John </O=ENRON/OU=NA/CN=RECIPIENTS/C...   \n",
       "405964  Zufferli, John </O=ENRON/OU=NA/CN=RECIPIENTS/C...   \n",
       "405965  Zufferli, John </O=ENRON/OU=NA/CN=RECIPIENTS/C...   \n",
       "405966  Zufferli, John </O=ENRON/OU=NA/CN=RECIPIENTS/C...   \n",
       "405967  Zufferli, John </O=ENRON/OU=NA/CN=RECIPIENTS/C...   \n",
       "\n",
       "                                                      XTo      folder  \\\n",
       "0                Tim Belden <Tim Belden/Enron@EnronXGate>  _sent_mail   \n",
       "1       John J Lavorato <John J Lavorato/ENRON@enronXg...  _sent_mail   \n",
       "2                                        Leah Van Arsdall  _sent_mail   \n",
       "3                                           Randall L Gay  _sent_mail   \n",
       "4                                              Greg Piper  _sent_mail   \n",
       "...                                                   ...         ...   \n",
       "405963  Loibl, Kori </O=ENRON/OU=NA/CN=RECIPIENTS/CN=K...  sent_items   \n",
       "405964  Lavorato, John </O=ENRON/OU=NA/CN=RECIPIENTS/C...  sent_items   \n",
       "405965  Doucet, Dawn </O=ENRON/OU=NA/CN=RECIPIENTS/CN=...  sent_items   \n",
       "405966  Slone, Jeanie </O=ENRON/OU=NA/CN=RECIPIENTS/CN...  sent_items   \n",
       "405967                 'Livia_Zufferli@Monitor.com@ENRON'  sent_items   \n",
       "\n",
       "              user  \n",
       "0          allen-p  \n",
       "1          allen-p  \n",
       "2          allen-p  \n",
       "3          allen-p  \n",
       "4          allen-p  \n",
       "...            ...  \n",
       "405963  zufferli-j  \n",
       "405964  zufferli-j  \n",
       "405965  zufferli-j  \n",
       "405966  zufferli-j  \n",
       "405967  zufferli-j  \n",
       "\n",
       "[405968 rows x 11 columns]"
      ]
     },
     "execution_count": 469,
     "metadata": {},
     "output_type": "execute_result"
    }
   ],
   "source": [
    "df['date'] = get_info(\"Date\", df['message'])\n",
    "df['date'] = pd.to_datetime(df['date'], utc=True, infer_datetime_format=True).dt.date\n",
    "\n",
    "df['sender'] = get_info('From', df['message'])\n",
    "df['recipient'] = get_info('To', df['message'])\n",
    "df['subject'] = get_info('Subject', df['message'])\n",
    "df['content'] = get_content(df['message'])\n",
    "\n",
    "df['XFrom'] = get_info('X-From', df['message'])\n",
    "df['XTo'] = get_info('X-To', df['message'])\n",
    "\n",
    "df['folder'] = df['file'].map(lambda x:x.split('/')[1])\n",
    "df['user'] = df['file'].map(lambda x:x.split('/')[0])\n",
    "df.drop('file', axis=1)"
   ]
  },
  {
   "cell_type": "markdown",
   "metadata": {},
   "source": [
    "The folder and user columns are created by splitting each file string by each '/'. E.g. `allen-p/_sent_mail/1.`."
   ]
  },
  {
   "cell_type": "code",
   "execution_count": 470,
   "metadata": {
    "scrolled": false
   },
   "outputs": [
    {
     "data": {
      "text/html": [
       "<div>\n",
       "<style scoped>\n",
       "    .dataframe tbody tr th:only-of-type {\n",
       "        vertical-align: middle;\n",
       "    }\n",
       "\n",
       "    .dataframe tbody tr th {\n",
       "        vertical-align: top;\n",
       "    }\n",
       "\n",
       "    .dataframe thead th {\n",
       "        text-align: right;\n",
       "    }\n",
       "</style>\n",
       "<table border=\"1\" class=\"dataframe\">\n",
       "  <thead>\n",
       "    <tr style=\"text-align: right;\">\n",
       "      <th></th>\n",
       "      <th>index</th>\n",
       "      <th>file</th>\n",
       "      <th>message</th>\n",
       "      <th>date</th>\n",
       "      <th>sender</th>\n",
       "      <th>recipient</th>\n",
       "      <th>subject</th>\n",
       "      <th>content</th>\n",
       "      <th>XFrom</th>\n",
       "      <th>XTo</th>\n",
       "      <th>folder</th>\n",
       "      <th>user</th>\n",
       "    </tr>\n",
       "  </thead>\n",
       "  <tbody>\n",
       "    <tr>\n",
       "      <th>271866</th>\n",
       "      <td>349687</td>\n",
       "      <td>nemec-g/inbox/719.</td>\n",
       "      <td>Message-ID: &lt;5755195.1075858570412.JavaMail.ev...</td>\n",
       "      <td>2001-05-30</td>\n",
       "      <td>barry.tycholiz@enron.com</td>\n",
       "      <td>russell.diamond@enron.com</td>\n",
       "      <td>RE: Mexican de Cobre -Deemed ISDA Credit Works...</td>\n",
       "      <td>russell, pls set up credit terms for customer ...</td>\n",
       "      <td>Barry Tycholiz &lt;Barry Tycholiz/ENRON@enronXgat...</td>\n",
       "      <td>Russell Diamond &lt;Russell Diamond/ENRON@enronXg...</td>\n",
       "      <td>inbox</td>\n",
       "      <td>nemec-g</td>\n",
       "    </tr>\n",
       "    <tr>\n",
       "      <th>207875</th>\n",
       "      <td>273926</td>\n",
       "      <td>lenhart-m/all_documents/1159.</td>\n",
       "      <td>Message-ID: &lt;16263958.1075858081698.JavaMail.e...</td>\n",
       "      <td>2000-06-27</td>\n",
       "      <td>matthew.lenhart@enron.com</td>\n",
       "      <td>timothy.blanchard@enron.com</td>\n",
       "      <td>Re: Tonight</td>\n",
       "      <td>we are bringing our entertaining pics</td>\n",
       "      <td>Matthew Lenhart</td>\n",
       "      <td>Timothy Blanchard</td>\n",
       "      <td>all_documents</td>\n",
       "      <td>lenhart-m</td>\n",
       "    </tr>\n",
       "    <tr>\n",
       "      <th>250907</th>\n",
       "      <td>323987</td>\n",
       "      <td>may-l/all_documents/23.</td>\n",
       "      <td>Message-ID: &lt;7086364.1075857936490.JavaMail.ev...</td>\n",
       "      <td>2001-03-23</td>\n",
       "      <td>larry.may@enron.com</td>\n",
       "      <td>sean.riordan@enron.com</td>\n",
       "      <td>Re:</td>\n",
       "      <td>yes</td>\n",
       "      <td>Larry May</td>\n",
       "      <td>Sean Riordan</td>\n",
       "      <td>all_documents</td>\n",
       "      <td>may-l</td>\n",
       "    </tr>\n",
       "  </tbody>\n",
       "</table>\n",
       "</div>"
      ],
      "text/plain": [
       "         index                           file  \\\n",
       "271866  349687             nemec-g/inbox/719.   \n",
       "207875  273926  lenhart-m/all_documents/1159.   \n",
       "250907  323987        may-l/all_documents/23.   \n",
       "\n",
       "                                                  message        date  \\\n",
       "271866  Message-ID: <5755195.1075858570412.JavaMail.ev...  2001-05-30   \n",
       "207875  Message-ID: <16263958.1075858081698.JavaMail.e...  2000-06-27   \n",
       "250907  Message-ID: <7086364.1075857936490.JavaMail.ev...  2001-03-23   \n",
       "\n",
       "                           sender                    recipient  \\\n",
       "271866   barry.tycholiz@enron.com    russell.diamond@enron.com   \n",
       "207875  matthew.lenhart@enron.com  timothy.blanchard@enron.com   \n",
       "250907        larry.may@enron.com       sean.riordan@enron.com   \n",
       "\n",
       "                                                  subject  \\\n",
       "271866  RE: Mexican de Cobre -Deemed ISDA Credit Works...   \n",
       "207875                                        Re: Tonight   \n",
       "250907                                                Re:   \n",
       "\n",
       "                                                  content  \\\n",
       "271866  russell, pls set up credit terms for customer ...   \n",
       "207875              we are bringing our entertaining pics   \n",
       "250907                                                yes   \n",
       "\n",
       "                                                    XFrom  \\\n",
       "271866  Barry Tycholiz <Barry Tycholiz/ENRON@enronXgat...   \n",
       "207875                                    Matthew Lenhart   \n",
       "250907                                          Larry May   \n",
       "\n",
       "                                                      XTo         folder  \\\n",
       "271866  Russell Diamond <Russell Diamond/ENRON@enronXg...          inbox   \n",
       "207875                                  Timothy Blanchard  all_documents   \n",
       "250907                                       Sean Riordan  all_documents   \n",
       "\n",
       "             user  \n",
       "271866    nemec-g  \n",
       "207875  lenhart-m  \n",
       "250907      may-l  "
      ]
     },
     "execution_count": 470,
     "metadata": {},
     "output_type": "execute_result"
    }
   ],
   "source": [
    "df.sample(3)"
   ]
  },
  {
   "cell_type": "markdown",
   "metadata": {},
   "source": [
    "### Dataset statistics and visualisations\n",
    "\n",
    "Let's start with something simple. Who emailed the most at Enron?"
   ]
  },
  {
   "cell_type": "code",
   "execution_count": 471,
   "metadata": {},
   "outputs": [
    {
     "data": {
      "text/plain": [
       "Text(0.5, 1.0, '10 most common emailers at Enron')"
      ]
     },
     "execution_count": 471,
     "metadata": {},
     "output_type": "execute_result"
    },
    {
     "data": {
      "image/png": "[encoded data removed]",
      "text/plain": [
       "<Figure size 432x288 with 1 Axes>"
      ]
     },
     "metadata": {
      "needs_background": "light"
     },
     "output_type": "display_data"
    }
   ],
   "source": [
    "sender_counts = df['sender'].value_counts()\n",
    "plt.barh(sender_counts.index[:10], sender_counts[:10])\n",
    "plt.title('10 most common emailers at Enron')"
   ]
  },
  {
   "cell_type": "markdown",
   "metadata": {},
   "source": [
    "Kay Mann and Vince Kaminski were the most frequent emailers at Enron by at least 4,000 emails, interesting."
   ]
  },
  {
   "cell_type": "code",
   "execution_count": 474,
   "metadata": {
    "scrolled": true
   },
   "outputs": [
    {
     "data": {
      "text/plain": [
       "all_documents         103382\n",
       "sent                   53752\n",
       "discussion_threads     45150\n",
       "deleted_items          36911\n",
       "sent_items             35567\n",
       "inbox                  29140\n",
       "_sent_mail             28341\n",
       "notes_inbox            26064\n",
       "calendar                3031\n",
       "_americas               2928\n",
       "archiving               2792\n",
       "personal                1962\n",
       "c                       1419\n",
       "schedule_crawler        1398\n",
       "attachments             1287\n",
       "Name: folder, dtype: int64"
      ]
     },
     "execution_count": 474,
     "metadata": {},
     "output_type": "execute_result"
    }
   ],
   "source": [
    "df['folder'].value_counts()[:15]"
   ]
  },
  {
   "cell_type": "markdown",
   "metadata": {},
   "source": [
    "The counts for emails in each folder confirms my earlier suspicion that there are some common folders."
   ]
  },
  {
   "cell_type": "code",
   "execution_count": 476,
   "metadata": {},
   "outputs": [
    {
     "data": {
      "text/plain": [
       "2000-12-13    2410\n",
       "2000-12-12    2299\n",
       "2002-01-30    2056\n",
       "2001-11-27    2012\n",
       "2000-12-11    1886\n",
       "2001-10-25    1881\n",
       "2001-11-26    1877\n",
       "2000-12-04    1852\n",
       "2001-11-19    1828\n",
       "2001-05-01    1785\n",
       "2001-11-20    1751\n",
       "2001-10-26    1748\n",
       "2001-10-24    1745\n",
       "2001-04-25    1698\n",
       "2001-10-23    1694\n",
       "Name: date, dtype: int64"
      ]
     },
     "execution_count": 476,
     "metadata": {},
     "output_type": "execute_result"
    }
   ],
   "source": [
    "after_nov = df['date'] > pd.to_datetime('2001-11-01')\n",
    "before_2002 = df['date'] < pd.to_datetime('2001-12-30')\n",
    "\n",
    "df.date.value_counts()[:15]"
   ]
  },
  {
   "cell_type": "markdown",
   "metadata": {},
   "source": [
    "As Enron collapsed in late November 2001, I was curious if there was a high amount of emails sent around this time. 27th and 26th November feature in the top 10 for emails sent in a day but this does not suggest too much about their collapse."
   ]
  },
  {
   "cell_type": "markdown",
   "metadata": {},
   "source": [
    "Let us find out the most common n-address interactions. An interaction is defined as an email sent between the same n addresses. Most emails are sent from one person to another, so n is normally 2."
   ]
  },
  {
   "cell_type": "code",
   "execution_count": 485,
   "metadata": {},
   "outputs": [],
   "source": [
    "def get_interactions(senders, recipients):\n",
    "    interactions = {}\n",
    "    for sender, recipient in zip(senders, recipients):\n",
    "        if sender != recipient:\n",
    "            if (sender, recipient) and (recipient, sender) not in interactions:\n",
    "                interactions[(sender, recipient)] = 1\n",
    "            elif (sender, recipient) not in interactions:\n",
    "                interactions[(recipient, sender)] += 1\n",
    "            else:\n",
    "                interactions[(sender, recipient)] += 1 \n",
    "    return interactions\n",
    "    \n",
    "interact_dict = get_interactions(df['sender'], df['recipient'])"
   ]
  },
  {
   "cell_type": "code",
   "execution_count": 486,
   "metadata": {},
   "outputs": [],
   "source": [
    "from collections import Counter\n",
    "\n",
    "c = Counter(interact_dict).most_common(10)\n",
    "combos = []\n",
    "counts = []\n",
    "for combo, count in c:\n",
    "    combos.append(str(combo))\n",
    "    counts.append(count)"
   ]
  },
  {
   "cell_type": "code",
   "execution_count": 487,
   "metadata": {},
   "outputs": [
    {
     "data": {
      "text/plain": [
       "Text(0.5, 0, 'Number of interactions')"
      ]
     },
     "execution_count": 487,
     "metadata": {},
     "output_type": "execute_result"
    },
    {
     "data": {
      "image/png": "[encoded data removed]",
      "text/plain": [
       "<Figure size 432x288 with 1 Axes>"
      ]
     },
     "metadata": {
      "needs_background": "light"
     },
     "output_type": "display_data"
    }
   ],
   "source": [
    "plt.barh(combos, counts)\n",
    "plt.title('10 most common interactions')\n",
    "plt.xlabel('Number of interactions')"
   ]
  },
  {
   "cell_type": "markdown",
   "metadata": {},
   "source": [
    "It looks like V and J Kaminski discussed all their marriage problems through emails.\n",
    "\n",
    "Let us define a group email as any email with multiple recipients. We can be confident that there will be an '@' for each recipient. Therefore, more than one '@' in the recipient string means the entry is a group email."
   ]
  },
  {
   "cell_type": "code",
   "execution_count": 493,
   "metadata": {},
   "outputs": [],
   "source": [
    "group_email = ['group' if recipient.count('@') > 1 else 'direct' for recipient in df['recipient']]\n",
    "df['group email'] = group_email"
   ]
  },
  {
   "cell_type": "code",
   "execution_count": 498,
   "metadata": {
    "scrolled": true
   },
   "outputs": [
    {
     "data": {
      "text/plain": [
       "kay.mann@enron.com           2314\n",
       "chris.germany@enron.com      1842\n",
       "tana.jones@enron.com         1219\n",
       "sara.shackleton@enron.com    1051\n",
       "jeff.dasovich@enron.com      1016\n",
       "david.delainey@enron.com      572\n",
       "steven.kean@enron.com         541\n",
       "carol.clair@enron.com         499\n",
       "drew.fossum@enron.com         469\n",
       "gerald.nemec@enron.com        429\n",
       "d..steffes@enron.com          424\n",
       "vince.kaminski@enron.com      410\n",
       "sally.beck@enron.com          385\n",
       "susan.scott@enron.com         367\n",
       "kate.symes@enron.com          316\n",
       "Name: sender, dtype: int64"
      ]
     },
     "execution_count": 498,
     "metadata": {},
     "output_type": "execute_result"
    }
   ],
   "source": [
    "group_email_counts = df.sender[df['group email']=='group'].value_counts()\n",
    "\n",
    "group_email_counts[:15]"
   ]
  },
  {
   "cell_type": "code",
   "execution_count": 499,
   "metadata": {},
   "outputs": [
    {
     "name": "stdout",
     "output_type": "stream",
     "text": [
      "It looks like kay.mann@enron.com enjoyed a group email!\n"
     ]
    }
   ],
   "source": [
    "print('It looks like {0} enjoyed a group email!'.format(group_email_counts.index[0]))"
   ]
  },
  {
   "cell_type": "markdown",
   "metadata": {},
   "source": [
    "## Part 3: Machine Learning\n",
    "\n",
    "Now I will attempt to fit a K-means model.\n",
    "\n",
    "### Cleaning email content for training\n",
    "\n",
    "I will use a bag-of-words approach to parsing the email content."
   ]
  },
  {
   "cell_type": "code",
   "execution_count": 500,
   "metadata": {},
   "outputs": [],
   "source": [
    "# Cleaning tools\n",
    "import re\n",
    "import string\n",
    "from nltk.corpus import stopwords\n",
    "from nltk.stem.wordnet import WordNetLemmatizer\n",
    "\n",
    "# Training tools\n",
    "from sklearn.cluster import KMeans\n",
    "from sklearn.feature_extraction.text import TfidfVectorizer,CountVectorizer\n",
    "from sklearn.decomposition import PCA"
   ]
  },
  {
   "cell_type": "markdown",
   "metadata": {},
   "source": [
    "The following function `clean` does 5 cleaning operations:\n",
    "* `rstrip` - removing trailing characters at the start and end of emails. These will clutter the vocabulary and be misleading to the K-means model.\n",
    "* `re.sub` - removes parts of the content string which are not words.\n",
    "* `stop` - a set of the stop words we will remove so that more focus can be given to meaningful words.\n",
    "* `exclude` - a set of the punctuation that will be removed.\n",
    "* `lemma` - a lemmatiser which will reduce the vocabulary and allow us to consider words such as 'run' and 'running' to have the same meaning."
   ]
  },
  {
   "cell_type": "code",
   "execution_count": 501,
   "metadata": {},
   "outputs": [],
   "source": [
    "def clean(text, stop):\n",
    "    stop = set(stopwords.words('english'))\n",
    "    stop.update((\"to\",\"cc\",\"subject\",\"http\",\"from\",\"sent\"))\n",
    "    exclude = set(string.punctuation) \n",
    "    lemma = WordNetLemmatizer()\n",
    "    \n",
    "    text = text.rstrip()\n",
    "    text = re.sub(r'[^a-zA-Z]', ' ', text)\n",
    "    stop_free = ' '.join([i for i in text.lower().split() if((i not in stop) and (not i.isdigit()))])\n",
    "    punc_free = ''.join(ch for ch in stop_free if ch not in exclude)\n",
    "    lemmatized = ' '.join(lemma.lemmatize(word) for word in punc_free.split())\n",
    "    \n",
    "    return lemmatized\n",
    "    "
   ]
  },
  {
   "cell_type": "code",
   "execution_count": 511,
   "metadata": {},
   "outputs": [],
   "source": [
    "df_sample = df.sample(5000)\n",
    "\n",
    "stop = set(stopwords.words('english'))\n",
    "df_sample['clean text'] = [clean(text, stop) for text in df_sample['content']]"
   ]
  },
  {
   "cell_type": "markdown",
   "metadata": {},
   "source": [
    "Tfidf is a better measure of word importance in a document set than simple word frequency counts. The inverse document frequency expression in tfidf's calculation  "
   ]
  },
  {
   "cell_type": "code",
   "execution_count": 512,
   "metadata": {},
   "outputs": [],
   "source": [
    "tfidf = TfidfVectorizer(stop_words=stop)\n",
    "tfidf_vec = tfidf.fit_transform(df_sample['clean text'])\n"
   ]
  },
  {
   "cell_type": "code",
   "execution_count": 513,
   "metadata": {},
   "outputs": [],
   "source": [
    "vocab = tfidf.get_feature_names()"
   ]
  },
  {
   "cell_type": "code",
   "execution_count": 514,
   "metadata": {},
   "outputs": [],
   "source": [
    "N=3\n",
    "kmeans = KMeans(n_clusters=N, \n",
    "            max_iter=50, \n",
    "            init='k-means++', \n",
    "            n_init=1)\n",
    "labels = kmeans.fit_predict(tfidf_vec)"
   ]
  },
  {
   "cell_type": "markdown",
   "metadata": {},
   "source": [
    "To visualise the clustering, we need to reduce the dimensionality of the data to 2. We can do this with Principle Component Analysis (PCA)."
   ]
  },
  {
   "cell_type": "code",
   "execution_count": 515,
   "metadata": {},
   "outputs": [],
   "source": [
    "tfidf_vec_2d = tfidf_vec.todense()\n",
    "pca = PCA(n_components=2).fit(tfidf_vec_2d)\n",
    "datapoint = pca.transform(tfidf_vec_2d)"
   ]
  },
  {
   "cell_type": "code",
   "execution_count": 516,
   "metadata": {},
   "outputs": [
    {
     "data": {
      "image/png": "[encoded data removed]",
      "text/plain": [
       "<Figure size 432x288 with 1 Axes>"
      ]
     },
     "metadata": {
      "needs_background": "light"
     },
     "output_type": "display_data"
    }
   ],
   "source": [
    "label = [\"#e0dc14\", \"#2fe014\", \"#14d2e0\"]\n",
    "color = [label[i] for i in labels]\n",
    "plt.scatter(datapoint[:, 0], datapoint[:, 1], c=color)\n",
    "\n",
    "centroids = kmeans.cluster_centers_\n",
    "centroidpoint = pca.transform(centroids)\n",
    "plt.scatter(centroidpoint[:, 0], centroidpoint[:, 1], marker='*', s=150, c='#000000')\n",
    "plt.show()"
   ]
  },
  {
   "cell_type": "markdown",
   "metadata": {},
   "source": [
    "Unfortunately I didn't have time to conduct analysis on this K-Means model."
   ]
  }
 ],
 "metadata": {
  "kernelspec": {
   "display_name": "Python 3",
   "language": "python",
   "name": "python3"
  },
  "language_info": {
   "codemirror_mode": {
    "name": "ipython",
    "version": 3
   },
   "file_extension": ".py",
   "mimetype": "text/x-python",
   "name": "python",
   "nbconvert_exporter": "python",
   "pygments_lexer": "ipython3",
   "version": "3.7.3"
  }
 },
 "nbformat": 4,
 "nbformat_minor": 4
}
